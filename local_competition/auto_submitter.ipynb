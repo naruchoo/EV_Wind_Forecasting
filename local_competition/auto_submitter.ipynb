{
 "cells": [
  {
   "cell_type": "code",
   "execution_count": null,
   "metadata": {},
   "outputs": [],
   "source": [
    "import pandas as pd\n",
    "import comp_utils\n",
    "\n",
    "# \"submission_data.csv\" ファイルを読み込む\n",
    "submission_data = pd.read_csv(\"submission_data.csv\")\n",
    "\n",
    "# データを JSON 形式に準備する\n",
    "submission_data = comp_utils.prep_submission_in_json_format(submission_data)\n",
    "\n",
    "# データの内容を確認（オプション）\n",
    "# print(submission_data)\n",
    "\n",
    "# データを送信する\n",
    "comp_utils.submit(submission_data)"
   ]
  }
 ],
 "metadata": {
  "language_info": {
   "name": "python"
  }
 },
 "nbformat": 4,
 "nbformat_minor": 2
}
