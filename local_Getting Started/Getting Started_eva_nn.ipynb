{
 "cells": [
  {
   "cell_type": "code",
   "execution_count": 1,
   "metadata": {},
   "outputs": [
    {
     "name": "stdout",
     "output_type": "stream",
     "text": [
      "Pinball loss for q50 = 35.01391453882956\n"
     ]
    }
   ],
   "source": [
    "import pandas as pd\n",
    "import numpy as np\n",
    "\n",
    "# Load the preprocessed data\n",
    "modelling_table = pd.read_csv(\"analyzed_data_q50.csv\")\n",
    "\n",
    "modelling_table['valid_datetime'] = pd.to_datetime(modelling_table['valid_datetime'])\n",
    "modelling_table['ref_datetime'] = pd.to_datetime(modelling_table['ref_datetime'])\n",
    "\n",
    "# Define the Pinball function\n",
    "def pinball(y, q, alpha):\n",
    "    return (y - q) * alpha * (y >= q) + (q - y) * (1 - alpha) * (y < q)\n",
    "\n",
    "# Calculate the Pinball Score for q50\n",
    "def pinball_score_q50(df, alpha=0.5):\n",
    "    score = pinball(y=df[\"total_generation_MWh\"], q=df[\"q50\"], alpha=alpha).mean()\n",
    "    return score\n",
    "\n",
    "# Calculate and print the Pinball Score for q50\n",
    "score_q50 = pinball_score_q50(modelling_table)\n",
    "print(\"Pinball loss for q50 =\", score_q50)"
   ]
  },
  {
   "cell_type": "code",
   "execution_count": null,
   "metadata": {},
   "outputs": [],
   "source": []
  }
 ],
 "metadata": {
  "kernelspec": {
   "display_name": "Python 3",
   "language": "python",
   "name": "python3"
  },
  "language_info": {
   "codemirror_mode": {
    "name": "ipython",
    "version": 3
   },
   "file_extension": ".py",
   "mimetype": "text/x-python",
   "name": "python",
   "nbconvert_exporter": "python",
   "pygments_lexer": "ipython3",
   "version": "3.11.3"
  }
 },
 "nbformat": 4,
 "nbformat_minor": 2
}
