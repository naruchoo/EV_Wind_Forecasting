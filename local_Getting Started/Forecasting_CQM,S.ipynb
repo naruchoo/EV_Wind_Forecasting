{
 "cells": [
  {
   "cell_type": "code",
   "execution_count": 5,
   "metadata": {},
   "outputs": [
    {
     "name": "stderr",
     "output_type": "stream",
     "text": [
      "/usr/local/lib/python3.11/site-packages/statsmodels/regression/quantile_regression.py:191: IterationLimitWarning: Maximum number of iterations (2500) reached.\n",
      "  warnings.warn(\"Maximum number of iterations (\" + str(max_iter) +\n",
      "/usr/local/lib/python3.11/site-packages/statsmodels/regression/quantile_regression.py:191: IterationLimitWarning: Maximum number of iterations (2500) reached.\n",
      "  warnings.warn(\"Maximum number of iterations (\" + str(max_iter) +\n",
      "/usr/local/lib/python3.11/site-packages/statsmodels/regression/quantile_regression.py:191: IterationLimitWarning: Maximum number of iterations (2500) reached.\n",
      "  warnings.warn(\"Maximum number of iterations (\" + str(max_iter) +\n"
     ]
    }
   ],
   "source": [
    "import pandas as pd\n",
    "import statsmodels.formula.api as smf\n",
    "import numpy as np\n",
    "\n",
    "# データの読み込み\n",
    "modelling_table = pd.read_csv(\"preprocessed_data.csv\")\n",
    "\n",
    "# valid_datetimeをdatetime型に変換\n",
    "modelling_table['valid_datetime'] = pd.to_datetime(modelling_table['valid_datetime'])\n",
    "\n",
    "# 季節ごとのデータフレームを作成\n",
    "modelling_table['month'] = modelling_table['valid_datetime'].dt.month\n",
    "spring = modelling_table[modelling_table['month'].isin([3, 4, 5])]\n",
    "summer = modelling_table[modelling_table['month'].isin([6, 7, 8])]\n",
    "autumn = modelling_table[modelling_table['month'].isin([9, 10, 11])]\n",
    "winter = modelling_table[modelling_table['month'].isin([12, 1, 2])]\n",
    "\n",
    "# 季節ごとの太陽光発電モデル\n",
    "solar_models = {\n",
    "    'spring': smf.quantreg('Solar_MWh_credit ~ bs(Radiation_dwd,df=5) + bs(Radiation_ncep,df=5)', data=spring),\n",
    "    'summer': smf.quantreg('Solar_MWh_credit ~ bs(Radiation_dwd,df=5) + bs(Radiation_ncep,df=5)', data=summer),\n",
    "    'autumn': smf.quantreg('Solar_MWh_credit ~ bs(Radiation_dwd,df=5) + bs(Radiation_ncep,df=5)', data=autumn),\n",
    "    'winter': smf.quantreg('Solar_MWh_credit ~ bs(Radiation_dwd,df=5) + bs(Radiation_ncep,df=5)', data=winter)\n",
    "}\n",
    "\n",
    "# 風力発電モデル\n",
    "wind_mod = smf.quantreg('Wind_MWh_credit ~ bs(WindSpeed_dwd,df=8) + bs(WindSpeed_ncep,df=8)', data=modelling_table)\n",
    "\n",
    "forecast_models_solar = dict()\n",
    "forecast_models_wind = dict()\n",
    "\n",
    "# 季節ごとの太陽光発電と風力発電の分位数を計算\n",
    "for quantile in range(10, 100, 10):\n",
    "    for season, season_months in {'spring': [3, 4, 5], 'summer': [6, 7, 8], 'autumn': [9, 10, 11], 'winter': [12, 1, 2]}.items():\n",
    "        forecast_models_solar[f\"{season}_q{quantile}\"] = solar_models[season].fit(q=quantile/100, max_iter=2500)\n",
    "        modelling_table.loc[modelling_table['month'].isin(season_months), f\"{season}_q{quantile}_solar\"] = forecast_models_solar[f\"{season}_q{quantile}\"].predict(modelling_table.loc[modelling_table['month'].isin(season_months)])\n",
    "    \n",
    "    forecast_models_wind[f\"q{quantile}\"] = wind_mod.fit(q=quantile/100, max_iter=2500)\n",
    "    modelling_table[f\"q{quantile}_wind\"] = forecast_models_wind[f\"q{quantile}\"].predict(modelling_table)\n",
    "\n",
    "    # 発電量は0以上、小数点3桁で丸める\n",
    "    for season in solar_models:\n",
    "        modelling_table.loc[modelling_table[f\"{season}_q{quantile}_solar\"] < 0, f\"{season}_q{quantile}_solar\"] = 0\n",
    "        modelling_table[f\"{season}_q{quantile}_solar\"] = modelling_table[f\"{season}_q{quantile}_solar\"].round(2)\n",
    "    \n",
    "    modelling_table.loc[modelling_table[f\"q{quantile}_wind\"] < 0, f\"q{quantile}_wind\"] = 0\n",
    "    modelling_table[f\"q{quantile}_wind\"] = modelling_table[f\"q{quantile}_wind\"].round(2)\n",
    "\n",
    "# 太陽光と風力の発電量の合計をトータル発電量として計算\n",
    "for quantile in range(10, 100, 10):\n",
    "    for season in solar_models:\n",
    "        modelling_table[f\"{season}_q{quantile}\"] = modelling_table[f\"{season}_q{quantile}_solar\"] + modelling_table[f\"q{quantile}_wind\"]\n",
    "\n",
    "# 更新データを保存\n",
    "modelling_table.to_csv(\"analyzed_data_sep_sea.csv\", index=False)\n",
    "\n",
    "# モデルをファイルに保存\n",
    "for quantile in range(10,100,10):\n",
    "    for season in solar_models:\n",
    "        forecast_models_solar[f\"{season}_q{quantile}\"].save(f\"models_sep_sea/{season}_solar_model_q{quantile}.pickle\")\n",
    "    #forecast_models_wind[f\"q{quantile}\"].save(f\"models_sep/wind_model_q{quantile}.pickle\") # 風力のモデルはmodels_sepに存在"
   ]
  },
  {
   "cell_type": "code",
   "execution_count": null,
   "metadata": {},
   "outputs": [],
   "source": []
  }
 ],
 "metadata": {
  "kernelspec": {
   "display_name": "Python 3",
   "language": "python",
   "name": "python3"
  },
  "language_info": {
   "codemirror_mode": {
    "name": "ipython",
    "version": 3
   },
   "file_extension": ".py",
   "mimetype": "text/x-python",
   "name": "python",
   "nbconvert_exporter": "python",
   "pygments_lexer": "ipython3",
   "version": "3.10.13"
  }
 },
 "nbformat": 4,
 "nbformat_minor": 2
}
