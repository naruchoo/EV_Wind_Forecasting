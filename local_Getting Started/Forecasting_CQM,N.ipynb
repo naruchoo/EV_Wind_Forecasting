{
 "cells": [
  {
   "cell_type": "code",
   "execution_count": 13,
   "metadata": {},
   "outputs": [
    {
     "name": "stderr",
     "output_type": "stream",
     "text": [
      "/usr/local/lib/python3.11/site-packages/statsmodels/regression/quantile_regression.py:191: IterationLimitWarning: Maximum number of iterations (5000) reached.\n",
      "  warnings.warn(\"Maximum number of iterations (\" + str(max_iter) +\n"
     ]
    }
   ],
   "source": [
    "import pandas as pd\n",
    "import statsmodels.formula.api as smf\n",
    "import numpy as np\n",
    "\n",
    "# データの読み込み\n",
    "modelling_table = pd.read_csv(\"preprocessed_data.csv\")\n",
    "\n",
    "# 太陽光発電と風力発電のための別々のモデル\n",
    "solar_mod = smf.quantreg('Solar_MWh_credit ~ bs(Radiation_dwd,df=5) + bs(Radiation_ncep,df=5)', data=modelling_table)\n",
    "wind_mod = smf.quantreg('Wind_MWh_credit ~ bs(WindSpeed_dwd,df=8) + bs(WindSpeed_ncep,df=8)', data=modelling_table)\n",
    "\n",
    "forecast_models_solar = dict()\n",
    "forecast_models_wind = dict()\n",
    "\n",
    "# 太陽光エネルギーと風力エネルギーの分位数を別々に計算\n",
    "for quantile in range(10, 100, 10):\n",
    "    forecast_models_solar[f\"q{quantile}\"] = solar_mod.fit(q=quantile/100, max_iter=2500)\n",
    "    forecast_models_wind[f\"q{quantile}\"] = wind_mod.fit(q=quantile/100, max_iter=2500)\n",
    "\n",
    "    modelling_table[f\"q{quantile}_solar\"] = forecast_models_solar[f\"q{quantile}\"].predict(modelling_table)\n",
    "    modelling_table[f\"q{quantile}_wind\"] = forecast_models_wind[f\"q{quantile}\"].predict(modelling_table)\n",
    "\n",
    "    # 発電量は0以上\n",
    "    modelling_table.loc[modelling_table[f\"q{quantile}_solar\"] < 0, f\"q{quantile}_solar\"] = 0\n",
    "    modelling_table.loc[modelling_table[f\"q{quantile}_wind\"] < 0, f\"q{quantile}_wind\"] = 0\n",
    "\n",
    "    # 小数点3桁で丸める\n",
    "    modelling_table[f\"q{quantile}_solar\"] = modelling_table[f\"q{quantile}_solar\"].round(2)\n",
    "    modelling_table[f\"q{quantile}_wind\"] = modelling_table[f\"q{quantile}_wind\"].round(2)\n",
    "\n",
    "    # 太陽光と風力の発電量の合計をトータル発電量として計算\n",
    "    modelling_table[f\"q{quantile}\"] = modelling_table[f\"q{quantile}_solar\"] + modelling_table[f\"q{quantile}_wind\"]\n",
    "\n",
    "# 太陽光エネルギーと風力エネルギーの予測を分けて保存した更新データを保存\n",
    "modelling_table.to_csv(\"analyzed_data_sep.csv\", index=False)\n",
    "\n",
    "# 太陽光エネルギーと風力エネルギーのための分位数回帰モデルをファイルに保存\n",
    "for quantile in range(10,100,10):\n",
    "    forecast_models_solar[f\"q{quantile}\"].save(f\"models_sep/solar_model_q{quantile}.pickle\")\n",
    "    forecast_models_wind[f\"q{quantile}\"].save(f\"models_sep/wind_model_q{quantile}.pickle\")"
   ]
  },
  {
   "cell_type": "code",
   "execution_count": null,
   "metadata": {},
   "outputs": [],
   "source": []
  }
 ],
 "metadata": {
  "kernelspec": {
   "display_name": "Python 3",
   "language": "python",
   "name": "python3"
  },
  "language_info": {
   "codemirror_mode": {
    "name": "ipython",
    "version": 3
   },
   "file_extension": ".py",
   "mimetype": "text/x-python",
   "name": "python",
   "nbconvert_exporter": "python",
   "pygments_lexer": "ipython3",
   "version": "3.10.13"
  }
 },
 "nbformat": 4,
 "nbformat_minor": 2
}
