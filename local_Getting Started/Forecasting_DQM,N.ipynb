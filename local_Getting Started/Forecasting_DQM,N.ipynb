{
 "cells": [
  {
   "cell_type": "code",
   "execution_count": 5,
   "metadata": {},
   "outputs": [
    {
     "name": "stderr",
     "output_type": "stream",
     "text": [
      "/usr/local/lib/python3.11/site-packages/statsmodels/regression/quantile_regression.py:191: IterationLimitWarning: Maximum number of iterations (2500) reached.\n",
      "  warnings.warn(\"Maximum number of iterations (\" + str(max_iter) +\n"
     ]
    }
   ],
   "source": [
    "import pandas as pd\n",
    "import statsmodels.formula.api as smf\n",
    "import numpy as np\n",
    "\n",
    "# Load the preprocessed data\n",
    "modelling_table = pd.read_csv(\"preprocessed_data.csv\")\n",
    "\n",
    "# quantile regression\n",
    "mod = smf.quantreg('total_generation_MWh ~ bs(Radiation_dwd,df=5) + bs(Radiation_ncep,df=5) + bs(WindSpeed_dwd,df=8) + bs(WindSpeed_ncep,df=8)', data=modelling_table)\n",
    "\n",
    "forecast_models = dict()\n",
    "for quantile in range(10,100,10):\n",
    "    forecast_models[f\"q{quantile}\"] = mod.fit(q=quantile/100,max_iter=2500)\n",
    "    modelling_table[f\"q{quantile}\"] = forecast_models[f\"q{quantile}\"].predict(modelling_table) \n",
    "    modelling_table.loc[modelling_table[f\"q{quantile}\"] < 0, f\"q{quantile}\"] = 0 #発電量は0以上\n",
    "    \n",
    "modelling_table.to_csv(\"analyzed_data.csv\", index=False)\n",
    "\n",
    "# Save the quantile regression models to files   \n",
    "for quantile in range(10,100,10):\n",
    "    forecast_models[f\"q{quantile}\"].save(f\"models/model_q{quantile}.pickle\")"
   ]
  },
  {
   "cell_type": "code",
   "execution_count": null,
   "metadata": {},
   "outputs": [],
   "source": []
  }
 ],
 "metadata": {
  "kernelspec": {
   "display_name": "Python 3",
   "language": "python",
   "name": "python3"
  },
  "language_info": {
   "codemirror_mode": {
    "name": "ipython",
    "version": 3
   },
   "file_extension": ".py",
   "mimetype": "text/x-python",
   "name": "python",
   "nbconvert_exporter": "python",
   "pygments_lexer": "ipython3",
   "version": "3.10.13"
  }
 },
 "nbformat": 4,
 "nbformat_minor": 2
}
