{
 "cells": [
  {
   "cell_type": "code",
   "execution_count": 16,
   "metadata": {},
   "outputs": [
    {
     "name": "stderr",
     "output_type": "stream",
     "text": [
      "/usr/local/lib/python3.11/site-packages/statsmodels/regression/quantile_regression.py:191: IterationLimitWarning: Maximum number of iterations (2500) reached.\n",
      "  warnings.warn(\"Maximum number of iterations (\" + str(max_iter) +\n",
      "/usr/local/lib/python3.11/site-packages/statsmodels/regression/quantile_regression.py:191: IterationLimitWarning: Maximum number of iterations (2500) reached.\n",
      "  warnings.warn(\"Maximum number of iterations (\" + str(max_iter) +\n",
      "/usr/local/lib/python3.11/site-packages/statsmodels/regression/quantile_regression.py:191: IterationLimitWarning: Maximum number of iterations (2500) reached.\n",
      "  warnings.warn(\"Maximum number of iterations (\" + str(max_iter) +\n"
     ]
    }
   ],
   "source": [
    "import pandas as pd\n",
    "import statsmodels.formula.api as smf\n",
    "import numpy as np\n",
    "\n",
    "# Load the preprocessed data\n",
    "modelling_table = pd.read_csv(\"preprocessed_data.csv\")\n",
    "\n",
    "# valid_datetimeをdatetime型に変換\n",
    "modelling_table['valid_datetime'] = pd.to_datetime(modelling_table['valid_datetime'])\n",
    "\n",
    "# 季節ごとのデータフレームを作成\n",
    "modelling_table['month'] = modelling_table['valid_datetime'].dt.month\n",
    "spring = modelling_table[modelling_table['month'].isin([3, 4, 5])]\n",
    "summer = modelling_table[modelling_table['month'].isin([6, 7, 8])]\n",
    "autumn = modelling_table[modelling_table['month'].isin([9, 10, 11])]\n",
    "winter = modelling_table[modelling_table['month'].isin([12, 1, 2])]\n",
    "\n",
    "# 季節ごとの総発電量モデル\n",
    "total_models = {\n",
    "    'spring': smf.quantreg('total_generation_MWh ~ bs(Radiation_dwd,df=5) + bs(Radiation_ncep,df=5) + bs(WindSpeed_dwd,df=8) + bs(WindSpeed_ncep,df=8)', data=spring),\n",
    "    'summer': smf.quantreg('total_generation_MWh ~ bs(Radiation_dwd,df=5) + bs(Radiation_ncep,df=5) + bs(WindSpeed_dwd,df=8) + bs(WindSpeed_ncep,df=8)', data=summer),\n",
    "    'autumn': smf.quantreg('total_generation_MWh ~ bs(Radiation_dwd,df=5) + bs(Radiation_ncep,df=5) + bs(WindSpeed_dwd,df=8) + bs(WindSpeed_ncep,df=8)', data=autumn),\n",
    "    'winter': smf.quantreg('total_generation_MWh ~ bs(Radiation_dwd,df=5) + bs(Radiation_ncep,df=5) + bs(WindSpeed_dwd,df=8) + bs(WindSpeed_ncep,df=8)', data=winter)\n",
    "}\n",
    "\n",
    "forecast_models = dict()\n",
    "\n",
    "# 季節ごとの太陽光発電と風力発電の分位数を計算\n",
    "for quantile in range(10, 100, 10):\n",
    "    for season, season_months in {'spring': [3, 4, 5], 'summer': [6, 7, 8], 'autumn': [9, 10, 11], 'winter': [12, 1, 2]}.items():\n",
    "        forecast_models[f\"{season}_q{quantile}\"] = total_models[season].fit(q=quantile/100, max_iter=2500)\n",
    "        modelling_table.loc[modelling_table['month'].isin(season_months), f\"{season}_q{quantile}\"] = forecast_models[f\"{season}_q{quantile}\"].predict(modelling_table.loc[modelling_table['month'].isin(season_months)])\n",
    "\n",
    "# 各季節ごとの予測結果を保存\n",
    "modelling_table.to_csv(\"analyzed_data_sea.csv\", index=False)\n",
    "\n",
    "seasons = ['spring', 'summer', 'autumn', 'winter']\n",
    "# 全ての量子回帰モデルを\"models_sea\"ファイルに保存\n",
    "for season in seasons:\n",
    "    for quantile in range(10, 100, 10):\n",
    "        forecast_models[f\"{season}_q{quantile}\"].save(f\"models_sea/model_{season}_q{quantile}.pickle\")"
   ]
  },
  {
   "cell_type": "code",
   "execution_count": null,
   "metadata": {},
   "outputs": [],
   "source": []
  }
 ],
 "metadata": {
  "kernelspec": {
   "display_name": "Python 3",
   "language": "python",
   "name": "python3"
  },
  "language_info": {
   "codemirror_mode": {
    "name": "ipython",
    "version": 3
   },
   "file_extension": ".py",
   "mimetype": "text/x-python",
   "name": "python",
   "nbconvert_exporter": "python",
   "pygments_lexer": "ipython3",
   "version": "3.10.13"
  }
 },
 "nbformat": 4,
 "nbformat_minor": 2
}
