{
 "cells": [
  {
   "cell_type": "code",
   "execution_count": 4,
   "metadata": {},
   "outputs": [
    {
     "name": "stdout",
     "output_type": "stream",
     "text": [
      "タイピングする英文: Shiva is worshiped as Aiyarappar, and is represented by the lingam and his consort Parvati is depicted as Soundaranayagi\n",
      "タイピングした英文: Sguca is worshiped as Aiyarappar, and is pretended by the lingam and his consortParvati is depicted as Soundaranayagi\n",
      "正解率: 61.11%\n",
      "タイピングにかかった時間: 43.48秒\n",
      "一文字あたりの入力時間: 0.3623秒\n"
     ]
    }
   ],
   "source": [
    "import requests\n",
    "import time\n",
    "import random\n",
    "\n",
    "def get_random_wikipedia_article():\n",
    "    url = \"https://en.wikipedia.org/api/rest_v1/page/random/summary\"\n",
    "\n",
    "    response = requests.get(url)\n",
    "    if response.status_code == 200:\n",
    "        data = response.json()\n",
    "        return data[\"title\"], data[\"extract\"]\n",
    "    else:\n",
    "        print(\"Error while fetching data from Wikipedia.\")\n",
    "        return None, None\n",
    "\n",
    "def split_into_sentences(text):\n",
    "    # 文をピリオドで分割\n",
    "    sentences = text.split('. ')\n",
    "    # 最後の文が空でないことを確認\n",
    "    return [sentence for sentence in sentences if sentence]\n",
    "\n",
    "# Wikipedia APIからランダムな記事を取得\n",
    "title, summary = get_random_wikipedia_article()\n",
    "if title and summary:\n",
    "    sentences = split_into_sentences(summary)\n",
    "    random_sentence = random.choice(sentences)  # ランダムな一文を選択\n",
    "    print(\"タイピングする英文: \" + random_sentence)\n",
    "\n",
    "    start_time = time.time()\n",
    "    user_input = input(\"文章を入力してください\")\n",
    "    end_time = time.time()\n",
    "\n",
    "    # ユーザー入力とランダムな文章を単語に分割\n",
    "    input_words = user_input.split()\n",
    "    random_sentence_words = random_sentence.split()\n",
    "\n",
    "    # 単語単位で正解率を計算\n",
    "    min_length = min(len(input_words), len(random_sentence_words))\n",
    "    correct_words = sum(user_word == random_word for user_word, random_word in zip(input_words, random_sentence_words))\n",
    "    accuracy = correct_words / min_length * 100 if min_length > 0 else 0\n",
    "    \n",
    "    # タイピングにかかった時間と一文字あたりの時間を計算\n",
    "    total_time = end_time - start_time\n",
    "    time_per_char = total_time / len(random_sentence) if len(random_sentence) > 0 else 0\n",
    "\n",
    "    print(\"タイピングした英文: \" + user_input)\n",
    "    print(\"正解率: {:.2f}%\".format(accuracy))\n",
    "    print(\"タイピングにかかった時間: {:.2f}秒\".format(total_time))\n",
    "    print(\"一文字あたりの入力時間: {:.4f}秒\".format(time_per_char))"
   ]
  },
  {
   "cell_type": "code",
   "execution_count": null,
   "metadata": {},
   "outputs": [],
   "source": []
  }
 ],
 "metadata": {
  "kernelspec": {
   "display_name": "Python 3",
   "language": "python",
   "name": "python3"
  },
  "language_info": {
   "codemirror_mode": {
    "name": "ipython",
    "version": 3
   },
   "file_extension": ".py",
   "mimetype": "text/x-python",
   "name": "python",
   "nbconvert_exporter": "python",
   "pygments_lexer": "ipython3",
   "version": "3.11.3"
  }
 },
 "nbformat": 4,
 "nbformat_minor": 2
}
